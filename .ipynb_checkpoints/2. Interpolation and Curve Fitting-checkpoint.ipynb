{
 "cells": [
  {
   "cell_type": "markdown",
   "id": "99e7ed95",
   "metadata": {},
   "source": [
    "# Interpolation and Curve Fitting"
   ]
  },
  {
   "cell_type": "markdown",
   "id": "17835c7d",
   "metadata": {},
   "source": [
    "## Table of Contents\n",
    "\n",
    "- [i. Linear Interpolation](#Linear-Interpolation)\n",
    "- [ii. Lagrange polynomial](#Lagrange-polynomial)\n",
    "- [iii. Newton polynomial](#Newton-polynomial)\n",
    "- [Linear Regression](#Linear-Curve-Fitting-(Linear-Regression))\n",
    "- []()\n",
    "- []()\n",
    "- [iv. SciPy Functions](#scipy-functions)"
   ]
  },
  {
   "cell_type": "markdown",
   "id": "4d1ec3c8",
   "metadata": {},
   "source": [
    "## Linear Interpolation"
   ]
  },
  {
   "cell_type": "markdown",
   "id": "808831d0",
   "metadata": {},
   "source": [
    "Linear interpolation is a method of estimating a value between two known data points on a *straight line* or a *linear curve*. In other words, it is a way to find an **approximate value** of a function at a point between two known data points by assuming that the *function is linear* between those points"
   ]
  },
  {
   "cell_type": "markdown",
   "id": "8c9d75e1",
   "metadata": {},
   "source": [
    "If the two known points are given by the coordinates $(x_{0},y_{0})$ and $(x_{1},y_{1})$, the linear interpolant is the straight line between these points. For a value $x$ in the interval $(x_{0},x_{1})$, the value $y$ along the straight line is given from the equation of slopes. "
   ]
  },
  {
   "cell_type": "markdown",
   "id": "694ea1b3",
   "metadata": {},
   "source": [
    "$$ \\frac{y - y_0}{x - x_0} = \\frac{y_1 - y_0}{x_1 - x_0} \n",
    "$$"
   ]
  },
  {
   "cell_type": "markdown",
   "id": "9c4ff1ed",
   "metadata": {},
   "source": [
    "solving for y,\n",
    "$$\n",
    "\\begin{align} \n",
    "y &= y_0 + (x-x_0)\\frac{y_1 - y_0}{x_1 - x_0} \n",
    "\\end{align}\n",
    "$$\n",
    "which is the formula for linear interpolation in the interval $(x_{0},x_{1})$.\n",
    "Outside this interval, the formula is identical to **linear extrapolation**."
   ]
  },
  {
   "cell_type": "markdown",
   "id": "7bb47cd8",
   "metadata": {},
   "source": [
    "The linear interpolation method has a **disadvantage** in that it completely *ignores all data points except the two adjacent* to the required point. This means that the overall trend of the curve that passes through all the data points is not considered, and as a result, the interpolated point may not accurately lie on that curve."
   ]
  },
  {
   "cell_type": "markdown",
   "id": "927181d7",
   "metadata": {},
   "source": [
    "**EXAMPLE:** here's a simple example to illustrate linear interpolation:\n",
    "\n",
    "Suppose you have a set of data points representing the temperature at different times of the day:\n",
    "\n",
    "    Time(h)\tTemperature (°C)\n",
    "        0    \t20\n",
    "        4   \t16\n",
    "        8   \t22\n",
    "        12  \t28\n",
    "        16  \t24\n",
    "        20  \t18"
   ]
  },
  {
   "cell_type": "code",
   "execution_count": 1,
   "id": "4ec996af",
   "metadata": {},
   "outputs": [
    {
     "data": {
      "text/plain": [
       "[20.0, 18.0, 16.0, 19.0, 22.0, 26.0, 24.0, 18.0]"
      ]
     },
     "execution_count": 1,
     "metadata": {},
     "output_type": "execute_result"
    }
   ],
   "source": [
    "X = [0,4,8,12,16,20]  # known data points for x\n",
    "Y = [20,16,22,28,24,18]  # known data points for y\n",
    "\n",
    "def linear_interpolate(X_p, X, Y):\n",
    "    Y_p = []\n",
    "    for x_p in X_p:\n",
    "        for i in range(len(X)):\n",
    "            if x_p <= X[i]:\n",
    "                Y_p.append(Y[i-1] + (x_p - X[i-1])*(Y[i] - Y[i-1])/(X[i] - X[i-1]))  # linear interpolation formula\n",
    "                break\n",
    "        else:\n",
    "            raise ValueError('Out of Range!')  # raise error if x_p is outside the range of X\n",
    "    return Y_p\n",
    "\n",
    "linear_interpolate([0, 2, 4, 6, 8, 14, 16, 20], X, Y)  # estimate y at x = 14 using linear interpolation"
   ]
  },
  {
   "cell_type": "markdown",
   "id": "73c50f1c",
   "metadata": {},
   "source": [
    "So, what does the below function do?!"
   ]
  },
  {
   "cell_type": "code",
   "execution_count": 2,
   "id": "2bb1e79b",
   "metadata": {},
   "outputs": [
    {
     "data": {
      "image/png": "[encoded data removed]",
      "text/plain": [
       "<Figure size 432x288 with 1 Axes>"
      ]
     },
     "metadata": {
      "needs_background": "light"
     },
     "output_type": "display_data"
    }
   ],
   "source": [
    "import matplotlib.pyplot as plt\n",
    "\n",
    "plt.plot(X,Y, 'bo--');"
   ]
  },
  {
   "cell_type": "markdown",
   "id": "2286f122",
   "metadata": {},
   "source": [
    "It does something like this,"
   ]
  },
  {
   "cell_type": "code",
   "execution_count": null,
   "id": "9e74dc68",
   "metadata": {},
   "outputs": [],
   "source": [
    "import numpy as np\n",
    "\n",
    "x = np.array(X)\n",
    "y = np.array(Y)\n",
    "\n",
    "x_interp = np.linspace(x.min(), x.max(), 80)  # produces other points between max and min of the X data\n",
    "y_interp = interpolate(x_interp, x,y)  # finds the corresponding interpolated values of each point\n",
    "plt.plot(x_interp, y_interp, 'b+')"
   ]
  },
  {
   "cell_type": "markdown",
   "id": "bc16de16",
   "metadata": {},
   "source": [
    "----"
   ]
  },
  {
   "cell_type": "markdown",
   "id": "443bd639",
   "metadata": {},
   "source": [
    "## Lagrange polynomial"
   ]
  },
  {
   "cell_type": "markdown",
   "id": "f9c3be42",
   "metadata": {},
   "source": [
    "The **Lagrange Interpolation Polynomial** is a polynomial function that can be used to interpolate a set of data points in order to approximate the value of a function at a point within a given interval. The polynomial is constructed using the **Lagrange basis functions**, which are a *set of polynomial functions* that are used to interpolate the data points."
   ]
  },
  {
   "cell_type": "markdown",
   "id": "d2a075a5",
   "metadata": {},
   "source": [
    "Suppose we have a set of n + 1 distinct data points (x0, y0), (x1, y1), ..., (xn, yn), and we wish to find a polynomial function P(x) that approximates the value of a function f(x) at a point x within the interval $[x_0, x_n]$. The Lagrange Interpolation Polynomial is given by:\n",
    "\n",
    "$$\n",
    "P(x) = \\sum_{i=0}^n y_i \\cdot l_i(x) = \\sum_{i=0}^n y_i \\cdot \\prod_{\\substack{j=0 \\\\ j\\neq i}}^n \\frac{x-x_j}{x_i-x_j}\n",
    "$$\n",
    "where $y_i$ is the value of the function $f(x)$ at the $i$-th data point $(x_i, y_i)$, and $l_i(x)$ is the $i$-th Lagrange basis polynomial."
   ]
  },
  {
   "cell_type": "markdown",
   "id": "11611dca",
   "metadata": {},
   "source": [
    "**Algorithm:**\n",
    "\n",
    "\n",
    "```\n",
    "1. Initialize P(x) to zero (P(x) = 0).\n",
    "2. For i = 0 to n, do steps 3-4.\n",
    "    3. Compute the value of the Lagrange basis polynomial li(x) for i = 0, 1, ..., n using the formula:\n",
    "    4. li(x) = Π[j=0 to n, j ≠ i] (x - xj) / (xi - xj)\n",
    "5. Update P(x) by adding the term yi * li(x) for i = 0, 1, ..., n using the formula:\n",
    "6. P(x) = Σ[i=0 to n] yi * li(x)\n",
    "7. Return the value of P(x) as the approximation of f(x) at the point x.\n",
    "```"
   ]
  },
  {
   "cell_type": "code",
   "execution_count": null,
   "id": "5675b56e",
   "metadata": {},
   "outputs": [],
   "source": [
    "# DATA Points\n",
    "import numpy as np\n",
    "import matplotlib.pyplot as plt\n",
    "\n",
    "x = np.linspace(0, 360, 11) * np.pi /180\n",
    "y = np.sin(x)\n",
    "plt.plot(x,y, 'ro');"
   ]
  },
  {
   "cell_type": "code",
   "execution_count": null,
   "id": "b9d995b9",
   "metadata": {},
   "outputs": [],
   "source": [
    "def lagrange_poly(Xp, x, y):\n",
    "    \n",
    "    # Compute the number of data points\n",
    "    m = len(x) + 1\n",
    "    n = m - 1\n",
    "    \n",
    "    # Initialize the list of computed values\n",
    "    yp = []\n",
    "    \n",
    "    # Loop over each evaluation point\n",
    "    for xp in Xp:\n",
    "        # Initialize the value of the Lagrange Interpolation Polynomial\n",
    "        Px = 0\n",
    "        \n",
    "        # Loop over each data point to compute the Lagrange basis polynomial\n",
    "        for i in range(n):\n",
    "            # Initialize the value of the Lagrange basis polynomial\n",
    "            l = 1\n",
    "            \n",
    "            # Compute the product of the factors in the Lagrange basis polynomial\n",
    "            for j in range(n):\n",
    "                if j == i:\n",
    "                    continue\n",
    "                l *= (xp - x[j])/(x[i] - x[j])\n",
    "            \n",
    "            # Update the value of the Lagrange Interpolation Polynomial\n",
    "            Px += y[i] * l\n",
    "        \n",
    "        # Append the computed value of the Lagrange Interpolation Polynomial to the list\n",
    "        yp.append(round(Px, 4))\n",
    "    \n",
    "    # Return the list of computed values\n",
    "    return yp"
   ]
  },
  {
   "cell_type": "code",
   "execution_count": null,
   "id": "3382dea6",
   "metadata": {},
   "outputs": [],
   "source": [
    "xp = [30*np.pi/180, 90*np.pi/180, 270*np.pi/180]\n",
    "lagrange_poly(xp, x, y)"
   ]
  },
  {
   "cell_type": "code",
   "execution_count": null,
   "id": "354a3abe",
   "metadata": {},
   "outputs": [],
   "source": [
    "x_interp = np.linspace(0,360,100)*np.pi/180\n",
    "y_interp = lagrange_poly(x_interp, x, y)\n",
    "\n",
    "plt.figure(figsize=(12,6))\n",
    "\n",
    "plt.plot(x_interp, y_interp,'go', ms=5)\n",
    "plt.plot(x, y, 'ro')\n",
    "plt.plot(x_interp, y_interp, 'b');"
   ]
  },
  {
   "cell_type": "markdown",
   "id": "57eca086",
   "metadata": {},
   "source": [
    "Does a pretty well job!"
   ]
  },
  {
   "cell_type": "code",
   "execution_count": null,
   "id": "e6ddf868",
   "metadata": {},
   "outputs": [],
   "source": [
    "# new data points\n",
    "x = np.linspace(-360, 360, 11)*np.pi/180\n",
    "y = np.sinc(x)\n",
    "plt.plot(x,y, 'ro');"
   ]
  },
  {
   "cell_type": "code",
   "execution_count": null,
   "id": "f0df94fb",
   "metadata": {},
   "outputs": [],
   "source": [
    "x_interp = np.linspace(-360, 360, 101)*np.pi/180\n",
    "y_interp = lagrange_poly(x_interp, x, y)\n",
    "\n",
    "plt.figure(figsize=(12,6))\n",
    "\n",
    "plt.plot(x_interp, y_interp,'o', ms=3)\n",
    "plt.plot(x, y, 'o')\n",
    "plt.plot(x_interp, np.sinc(x_interp), label= 'Actual Values')\n",
    "plt.plot(x_interp, y_interp, label='lagrange method')\n",
    "\n",
    "plt.legend();"
   ]
  },
  {
   "cell_type": "markdown",
   "id": "482bc787",
   "metadata": {},
   "source": [
    "The Lagrange Interpolation Polynomial has some **disadvantages** compared to other interpolation methods, such as Newton's divided differences.\n",
    "\n",
    "* One major disadvantage is that the Lagrange Interpolation Polynomial can be numerically unstable when the degree of the polynomial is high or the data points are closely spaced. This is because the Lagrange basis polynomials involve dividing by small differences between the data points, which **can amplify rounding errors and lead to inaccurate results**. This is known as the **Runge's phenomenon**, which causes **oscillations in the interpolated polynomial near the edges of the interval**.\n",
    "\n",
    "* Another disadvantage is that the Lagrange Interpolation Polynomial can be **computationally expensive** for large data sets because it requires computing the Lagrange basis polynomials for each data point at each evaluation point. This can result in a time complexity of **$O(n^2)$** for n data points, which can be slow for very large n.\n",
    "\n",
    "To overcome these disadvantages, alternative interpolation methods such as **Newton's divided differences** or **cubic splines** can be used, which are more stable and computationally efficient."
   ]
  },
  {
   "cell_type": "markdown",
   "id": "278d7db6",
   "metadata": {},
   "source": [
    "-----"
   ]
  },
  {
   "cell_type": "markdown",
   "id": "1ca32554",
   "metadata": {},
   "source": [
    "## Newton polynomial"
   ]
  },
  {
   "cell_type": "markdown",
   "id": "78945a5a",
   "metadata": {},
   "source": [
    "The **Newton Interpolation** Method is another common method for interpolating a set of data points with a polynomial function. It is similar to the Lagrange Interpolation Method but uses a different approach to construct the interpolating polynomial.\n",
    "\n",
    "The Newton Interpolation Method constructs the interpolating polynomial using a **divided difference table**, which is a table of divided differences of the data points. The divided differences are *recursively* computed from the data points and used to construct the ***coefficients of the polynomial***."
   ]
  },
  {
   "cell_type": "markdown",
   "id": "82eb58dd",
   "metadata": {},
   "source": [
    "The divided difference table is a matrix D with entries:\n",
    "\n",
    "$$D_{i,0} = y_j$$\n",
    "\n",
    "and, for j > 0,\n",
    "\n",
    "$$D_{i,j+1} = \\frac{D_{i, j} - D_{j, j}}{x_{i} - x_j}$$\n",
    "\n",
    "The interpolating polynomial is given by:\n",
    "\n",
    "$$P(x) = D_{0,0} + \\sum_{i=1}^n D_{i,i} \\prod_{j=0}^{i-1} (x - x_j)$$\n",
    "\n",
    "where $D_{0,0}, D_{1,1}, \\ldots, D_{n,n}$ are the coefficients of the polynomial."
   ]
  },
  {
   "cell_type": "markdown",
   "id": "86830091",
   "metadata": {},
   "source": [
    "This can be achieved in **two steps**.  \n",
    "The first step is the ***divided differences procedure*** and used to calculated the coefficients of the polynomial.  \n",
    "The second is simple ***substitution of values of a given x*** into the polynomial to get the interpolated y."
   ]
  },
  {
   "cell_type": "markdown",
   "id": "423b889d",
   "metadata": {},
   "source": [
    "Here's how to construct the divided difference table D for a set of n+1 data points (x0, y0), (x1, y1), ..., (xn, yn):\n",
    "\n",
    "1. Initialize the divided difference table D as an n x n matrix with all entries equal to zero. The matrix D has n rows and n columns because the first column is already filled with the y-values of the data points.\n",
    "\n",
    "$$ D = \\begin{bmatrix}\n",
    "0 & 0 & 0 & \\cdots & 0 \\\\\n",
    "0 & 0 & 0 & \\cdots & 0 \\\\\n",
    "\\vdots & \\vdots & \\vdots & \\ddots & \\vdots \\\\\n",
    "0 & 0 & 0 & \\cdots & 0\n",
    "\\end{bmatrix} $$\n",
    "\n",
    "2. Set the first column of D to the y-values of the data points.\n",
    "\n",
    "$$ D = \\begin{bmatrix}\n",
    "y_0 & 0 & 0 & \\cdots & 0 \\\\\n",
    "y_1 & 0 & 0 & \\cdots & 0 \\\\\n",
    "\\vdots & \\vdots & \\vdots & \\ddots & \\vdots \\\\\n",
    "y_n & 0 & 0 & \\cdots & 0\n",
    "\\end{bmatrix} $$\n",
    "\n",
    "3. For j = 0 to n, compute the jth column of D recursively using the formula:\n",
    "\n",
    "$$D_{i,j+1} = \\frac{D_{i, j} - D_{j, j}}{x_{i} - x_j}$$\n",
    "\n",
    "where i = j+1, j+2, ..., n+1.\n",
    "\n",
    "To compute the first entry in the jth column, we have:\n",
    "\n",
    "$$ D_{j,j} = \\frac{D_{j,j-1} - D_{j-1,j-1}}{x_{j} - x_{j-1}} $$\n",
    "\n",
    "and so on, until we compute the last entry in the jth column:\n",
    "\n",
    "$$ D_{n,j} = \\frac{D_{n,j-1} - D_{j-1,j-1}}{x_{j} - x_{j-1}} $$\n",
    "\n",
    "After computing all the entries in the ith column, we have:\n",
    "\n",
    "$$ D = \\begin{bmatrix}\n",
    "y_0 & 0 & 0 & \\cdots & 0 \\\\\n",
    "y_1 & D_{1,1} & 0 & \\cdots & 0 \\\\\n",
    "\\vdots & \\vdots & \\vdots & \\ddots & \\vdots \\\\\n",
    "y_n & D_{n,1} & D_{n,3} & \\cdots & D_{n,n}\n",
    "\\end{bmatrix} $$\n",
    "\n",
    "Note that the diagonal entries are the coefficients of the P(x) formula."
   ]
  },
  {
   "cell_type": "markdown",
   "id": "946e9177",
   "metadata": {},
   "source": [
    "**Algorithm:**\n",
    "\n",
    "```\n",
    "1. Initialize the divided difference table D as an n x n matrix with all entries equal to zero.\n",
    "2. Set the first column of D to the y-values of the data points.\n",
    "3. For i = 1 to n, do steps 4-5.\n",
    "    4. Compute the ith column of D recursively using the formula:\n",
    "    5. D[i,j+1] = (D[i,j] - D[i,j]) / (x[i] - x[j])\n",
    "6. The value of the polynomial at the point x is given by:\n",
    "7. P(x) = D[0,0] + Σ[i=1 to n] D[i,i] * Π[j=0 to i-1] (x - x[j])\n",
    "8. Return the value of P(x) as the approximation of f(x) at the point x.\n",
    "```"
   ]
  },
  {
   "cell_type": "code",
   "execution_count": null,
   "id": "4c7a19d8",
   "metadata": {
    "scrolled": true
   },
   "outputs": [],
   "source": [
    "# Data Points\n",
    "x = np.linspace(-360,360,8) * np.pi/180\n",
    "y = np.sinh(x)\n",
    "\n",
    "plt.plot(x, y, 'ro');"
   ]
  },
  {
   "cell_type": "code",
   "execution_count": null,
   "id": "e7a4a9ee",
   "metadata": {},
   "outputs": [],
   "source": [
    "class Newton_poly:\n",
    "    def __init__(self, x, y):\n",
    "        self.x = x\n",
    "        self.y = y\n",
    "        self.D = None\n",
    "        self.n = len(self.x) - 1\n",
    "        \n",
    "    def divided_differences(self):\n",
    "        n = self.n\n",
    "        self.D = np.zeros((n+1,n+1))\n",
    "        self.D[:,0] = self.y\n",
    "        \n",
    "        for j in range(n):\n",
    "            for i in range(j+1, n+1):\n",
    "                self.D[i][j + 1] = (self.D[i][j] - self.D[j][j]) / (self.x[i] - self.x[j])        \n",
    "\n",
    "        return self.D\n",
    "    \n",
    "    def interpolate(self, Xp):\n",
    "        if self.D is None:\n",
    "            self.divided_differences()\n",
    "        \n",
    "        Yp = []\n",
    "        n = self.n\n",
    "\n",
    "        for xp in Xp:    \n",
    "            yp = self.D[0,0]    \n",
    "            for i in range(n):\n",
    "                xprod = 1\n",
    "                for j in range(i+1):\n",
    "                    xprod *= xp - self.x[j]\n",
    "                yp += xprod * self.D[i+1, i+1]\n",
    "            Yp.append(yp)\n",
    "            \n",
    "        return Yp"
   ]
  },
  {
   "cell_type": "code",
   "execution_count": null,
   "id": "4d5c447a",
   "metadata": {},
   "outputs": [],
   "source": [
    "newton_method = Newton_poly(x, y)\n",
    "D = newton_method.divided_differences()\n",
    "D"
   ]
  },
  {
   "cell_type": "code",
   "execution_count": null,
   "id": "23e0d16f",
   "metadata": {},
   "outputs": [],
   "source": [
    "Xp = np.linspace(-360,360,40) * np.pi/180\n",
    "newton_method = Newton_poly(x, y)\n",
    "\n",
    "D = newton_method.divided_differences()\n",
    "Yp = newton_method.interpolate(Xp)\n",
    "\n",
    "plt.figure(figsize=(12,6))\n",
    "plt.plot(Xp, Yp, 'o--', label='Newton method')\n",
    "plt.plot(x, y, 'p', label='Actual Values')\n",
    "plt.plot(Xp, lagrange_poly(Xp, x, y), '+--', label='Lagrange method')\n",
    "plt.legend();"
   ]
  },
  {
   "cell_type": "code",
   "execution_count": null,
   "id": "d35b8fe9",
   "metadata": {},
   "outputs": [],
   "source": [
    "x = np.linspace(-1200, 1200, 11)*np.pi/180\n",
    "y = np.sinc(x)\n",
    "\n",
    "Xp = np.linspace(-1200, 1200,51) * np.pi/180\n",
    "newton_method = Newton_poly(x, y)\n",
    "\n",
    "D = newton_method.divided_differences()\n",
    "Yp = newton_method.interpolate(Xp)\n",
    "\n",
    "plt.figure(figsize=(12,6))\n",
    "plt.plot(Xp, Yp, 'o--', label='Newton method')\n",
    "plt.plot(x, y, 'p', label='Actual Values')\n",
    "plt.plot(Xp, lagrange_poly(Xp, x, y), '+--', label='Lagrange method')\n",
    "plt.legend();"
   ]
  },
  {
   "cell_type": "markdown",
   "id": "6314bbdb",
   "metadata": {},
   "source": [
    "-------\n",
    "---\n",
    "---\n"
   ]
  },
  {
   "cell_type": "markdown",
   "id": "da0dfee2",
   "metadata": {},
   "source": [
    "## Linear Curve Fitting (Linear Regression)"
   ]
  },
  {
   "cell_type": "markdown",
   "id": "590b48bb",
   "metadata": {},
   "source": [
    "Linear curve fitting, also known as **linear regression**, is a method for finding the best linear relationship between a dependent variable *y* and one or more independent variables *x*. The goal is to find the equation of a straight line that best fits the given data points, e.i. ***with least deviation from the points***.   \n",
    "Thus, the main difference between interpolation and curve fitting is that the latter does not have to coincide all given data points\n",
    "\n",
    "The equation of a straight line is given by:\n",
    "$$ y = m x + b$$\n",
    "\n",
    "where $m$ is the slope of the line, $b$ is the y-intercept, and $x$ and $y$ are the independent and dependent variables, respectively."
   ]
  },
  {
   "cell_type": "markdown",
   "id": "df95191d",
   "metadata": {},
   "source": [
    "To find the best-fit line, we need to find the values of $\\beta$ and $\\epsilon$ that *minimize the sum of the squared differences* between the predicted values of y, $\\hat y$, and the actual values of y for each input value of x. This method is known as the method of ***least squares***."
   ]
  },
  {
   "cell_type": "markdown",
   "id": "22fa8d24",
   "metadata": {},
   "source": [
    "we have to minmize the equation below,\n",
    "\n",
    "$$ minimize \\sum\\limits_{i=1}^{n} (y_i - mx_i - b)^2\n",
    "$$"
   ]
  },
  {
   "cell_type": "markdown",
   "id": "a40cc1ce",
   "metadata": {},
   "source": [
    "one can find\n",
    "$$\n",
    "m = \\frac{\\sum\\limits_{i=1}^{n} (x_i - \\bar{x})(y_i - \\bar{y})}{\\sum\\limits_{i=1}^{n} (x_i - \\bar{x})^2}\n",
    "$$\n",
    "\n",
    "and\n",
    "$$\n",
    "b = \\bar{y} - m\\bar{x}\n",
    "$$"
   ]
  },
  {
   "cell_type": "markdown",
   "id": "832b1ad8",
   "metadata": {},
   "source": [
    "where $$ \\bar x = \\frac{1}{n} \\sum\\limits_{i=1}^{n} {x_i},\\space \\bar y = \\frac{1}{n} \\sum\\limits_{i=1}^{n}{y_i}$$"
   ]
  },
  {
   "cell_type": "code",
   "execution_count": null,
   "id": "c23e4d80",
   "metadata": {},
   "outputs": [],
   "source": [
    "# data point\n",
    "np.random.seed(101)\n",
    "x = np.linspace(0, 8, 21)\n",
    "y = 5 * x - 10 + ((6 + 3) * np.random.random_sample(21) + 3)\n",
    "\n",
    "plt.plot(x, y, 'o');"
   ]
  },
  {
   "cell_type": "code",
   "execution_count": null,
   "id": "adc6a6d0",
   "metadata": {},
   "outputs": [],
   "source": [
    "def linear_reg(x, y, Xp):\n",
    "    n = len(x)\n",
    "    m = 0\n",
    "    mean_x = sum(x)/n\n",
    "    mean_y = sum(y)/n\n",
    "    \n",
    "    \n",
    "    m = sum((x - mean_x)*(y - mean_y)) / sum((x - mean_x)**2) \n",
    "    b = mean_y - m * mean_x\n",
    "    print('m =', round(m, 6), ', b =', round(b, 6))\n",
    "    return Xp * m + b"
   ]
  },
  {
   "cell_type": "code",
   "execution_count": null,
   "id": "16f25027",
   "metadata": {},
   "outputs": [],
   "source": [
    "Xp = np.linspace(0, 8, 51)\n",
    "Yp = linear_reg(x, y, Xp)\n",
    "\n",
    "plt.plot(Xp, Yp, '+-', ms=2)\n",
    "plt.plot(x, y, 'o');"
   ]
  },
  {
   "cell_type": "code",
   "execution_count": null,
   "id": "bc2de45f",
   "metadata": {},
   "outputs": [],
   "source": [
    "## checking\n",
    "np.polyfit(x, y, 1)"
   ]
  },
  {
   "cell_type": "markdown",
   "id": "cd85fd23",
   "metadata": {},
   "source": [
    "Same! "
   ]
  },
  {
   "cell_type": "markdown",
   "id": "71caf74a",
   "metadata": {},
   "source": [
    "-------"
   ]
  },
  {
   "cell_type": "markdown",
   "id": "0783a4c3",
   "metadata": {},
   "source": [
    "## Polynomial Curve Fitting"
   ]
  },
  {
   "cell_type": "markdown",
   "id": "f064ce0f",
   "metadata": {},
   "source": [
    "Fitting with a **polynomial curve** involves finding the best-fitting curve that represents the relationship between two variables, typically an independent variable (*x*) and a dependent variable (*y*). A polynomial curve is a curve that is defined by a polynomial equation of degree **n**, where n is the highest power of x in the equation.\n",
    "\n",
    "Polynomial Eq.: $$ y = b_0 + b_1 x + b_2 x^2 + \\dots + b_n x^n $$\n",
    "\n",
    "This can be expressed in a Matrix format like this: \n",
    "\n",
    "$$ A|\\text{x}\\rangle = |\\text{B}\\rangle $$\n",
    "\n",
    "If a set of data containing **m** points is to be fitted by the polynomial curve of degree **n**, a system of linear equations is formulated to compute values of the coefficients\n",
    "\n",
    "$$\n",
    "B = \\begin{pmatrix} \\sum y_i\\\\ \\sum x_iy_i\\\\ \\sum x^2_iy_i \\\\ \\vdots \\\\ \\sum x^n_iy_i \\end{pmatrix}, A = \\begin{pmatrix}\n",
    "m & \\sum\\limits_{i=0}^{n} x_i & \\sum\\limits_{i=0}^{n} x_i^2 & \\cdots & \\sum\\limits_{i=0}^{n} x_i^{n} \\\\\n",
    "\\sum\\limits_{i=0}^{n} x_i & \\sum\\limits_{i=0}^{n} x_i^2 & \\sum\\limits_{i=0}^{n} x_i^3 & \\cdots & \\sum\\limits_{i=0}^{n} x_i^{n+1} \\\\\n",
    "\\sum\\limits_{i=0}^{n} x_i^2 & \\sum\\limits_{i=0}^{n} x_i^3 & \\sum\\limits_{i=0}^{n} x_i^4 & \\cdots & \\sum\\limits_{i=0}^{n} x_i^{n+2} \\\\\n",
    "\\vdots & \\vdots & \\vdots & \\ddots & \\vdots \\\\\n",
    "\\sum\\limits_{i=0}^{n} x_i^{n} & \\sum\\limits_{i=0}^{n} x_i^{n+1} & \\sum\\limits_{i=0}^{n} x_i^{n+2} & \\cdots & \\sum\\limits_{i=0}^{n} x_i^{2n}\n",
    "\\end{pmatrix}\n",
    "$$"
   ]
  },
  {
   "cell_type": "code",
   "execution_count": null,
   "id": "d625b7c8",
   "metadata": {},
   "outputs": [],
   "source": [
    "# DATA POINTS\n",
    "np.random.seed(101)\n",
    "x = (np.linspace(-360, 360, 101) + ((10 + 8) * np.random.random_sample(101) + 10)) * np.pi / 180\n",
    "y = x**3 + ((20 + 20) * np.random.random_sample(101) + 20)\n",
    "\n",
    "plt.plot(x, y, 'ro', ms=3);"
   ]
  },
  {
   "cell_type": "code",
   "execution_count": null,
   "id": "1ce26d6d",
   "metadata": {},
   "outputs": [],
   "source": [
    "def poly_fit(x, y, deg):\n",
    "    if len(x) != len(y):\n",
    "        raise ValueError(\"x and y must have the same length\")\n",
    "\n",
    "    n = deg\n",
    "    A = np.zeros((n+1, n+1))\n",
    "    B = np.zeros(n+1)\n",
    "\n",
    "    for i in range(n+1):\n",
    "        A[i,:] = np.sum(x[:,np.newaxis]**(i+np.arange(n+1)), axis=0) # each row of matrix A\n",
    "        B[i] = np.sum(y * x**i)\n",
    "\n",
    "    return np.linalg.solve(A, B)"
   ]
  },
  {
   "cell_type": "code",
   "execution_count": null,
   "id": "70d2ed96",
   "metadata": {},
   "outputs": [],
   "source": [
    "def f(x, a):\n",
    "    y = 0\n",
    "    for i in range(len(a)):\n",
    "        y += a[i] * x**i\n",
    "    return y\n",
    "\n",
    "\n",
    "a = poly_fit(x, y, 3)\n",
    "\n",
    "a_np = np.polyfit(x, y, 3)\n",
    "\n",
    "xp = np.linspace(-360, 360, 101) * np.pi / 180\n",
    "\n",
    "plt.figure(figsize=(12,6))\n",
    "plt.plot(xp, f(xp, a), 'o', ms=4, label='Poly fit')\n",
    "plt.plot(xp, np.polyval(a_np, xp), '+',ms=4, label='Numpy fit')\n",
    "plt.plot(x, y, 'o',ms=3, label='Actual values')\n",
    "plt.legend();"
   ]
  },
  {
   "cell_type": "markdown",
   "id": "1b87a516",
   "metadata": {},
   "source": [
    "--------"
   ]
  },
  {
   "cell_type": "markdown",
   "id": "fc44c0bb",
   "metadata": {},
   "source": [
    "## SciPy Interpolation"
   ]
  },
  {
   "cell_type": "markdown",
   "id": "4769f366",
   "metadata": {},
   "source": [
    "`scipy.interpolate` provides a number of functions for interpolation:\n",
    "\n",
    "* `interp1d`: 1-D interpolation function based on linear, quadratic, or cubic splines.  \n",
    "\n",
    "* `lagrange`: The lagrange function is used to perform polynomial interpolation using Lagrange polynomials.\n",
    "  \n",
    "* `interp2d`: 2-D interpolation function based on linear or cubic splines.  \n",
    "\n",
    "* `griddata`: Interpolates unstructured data points (x,y) to a regular grid.  \n",
    "\n",
    "* `SmoothBivariateSpline`: 2-D smoothing spline for noisy data.  \n",
    "\n",
    "* `RectBivariateSpline`: 2-D interpolation function based on tensor product of B-splines.  \n",
    "\n",
    "* `RegularGridInterpolator`: Multidimensional interpolation on a regular grid.  \n"
   ]
  },
  {
   "cell_type": "code",
   "execution_count": null,
   "id": "60a2f45d",
   "metadata": {},
   "outputs": [],
   "source": [
    "from scipy import interpolate"
   ]
  },
  {
   "cell_type": "code",
   "execution_count": null,
   "id": "2ca948ce",
   "metadata": {
    "scrolled": true
   },
   "outputs": [],
   "source": [
    "# help(interpolate)"
   ]
  },
  {
   "cell_type": "code",
   "execution_count": null,
   "id": "3024c790",
   "metadata": {
    "scrolled": true
   },
   "outputs": [],
   "source": [
    "X = [0,4,8,12,16,20]\n",
    "Y = [20,16,22,28,24,18]\n",
    "\n",
    "f = interpolate.interp1d(X, Y, kind='linear') # cubic or quadratic\n",
    "\n",
    "print(\"Scipy:\",f([0, 2, 4, 6, 8, 14, 16, 20])) # scipy func\n",
    "print(\"Our func:\",linear_interpolate([0, 2, 4, 6, 8, 14, 16, 20], X, Y)) # our functions"
   ]
  },
  {
   "cell_type": "code",
   "execution_count": null,
   "id": "b0c48304",
   "metadata": {},
   "outputs": [],
   "source": [
    "### Lagrange:\n",
    "# Parameters\n",
    "# ----------\n",
    "# x : array_like\n",
    "#     `x` represents the x-coordinates of a set of datapoints.\n",
    "# w : array_like\n",
    "#     `w` represents the y-coordinates of a set of datapoints, i.e., f(`x`).\n",
    "x = np.linspace(-360, 360, 11)*np.pi/180\n",
    "y = np.sinc(x)\n",
    "\n",
    "L = interpolate.lagrange(x, y)\n",
    "\n",
    "print(L)"
   ]
  },
  {
   "cell_type": "code",
   "execution_count": null,
   "id": "1be71c16",
   "metadata": {},
   "outputs": [],
   "source": [
    "xp = np.linspace(-360, 360, 51)*np.pi/180\n",
    "plt.plot(xp, L(xp), 'o')"
   ]
  },
  {
   "cell_type": "markdown",
   "id": "8f0a2ab0",
   "metadata": {},
   "source": [
    "## Scipy Curve-Fitting"
   ]
  },
  {
   "cell_type": "markdown",
   "id": "c53eb15e",
   "metadata": {},
   "source": [
    "* `stats.linregress`\n",
    "* `optimize.curve_fit`"
   ]
  },
  {
   "cell_type": "code",
   "execution_count": null,
   "id": "378bd576",
   "metadata": {},
   "outputs": [],
   "source": [
    "from scipy.stats import linregress"
   ]
  },
  {
   "cell_type": "code",
   "execution_count": null,
   "id": "24127271",
   "metadata": {},
   "outputs": [],
   "source": [
    "np.random.seed(101)\n",
    "x = np.linspace(0, 8, 21)\n",
    "y = 5 * x - 10 + ((6 + 3) * np.random.random_sample(21) + 3)\n",
    "\n",
    "L = linregress(x,y)\n",
    "print('m:', L.slope)\n",
    "print(\"y_intercept:\", L.intercept)"
   ]
  },
  {
   "cell_type": "code",
   "execution_count": null,
   "id": "8592551b",
   "metadata": {},
   "outputs": [],
   "source": [
    "### CURVE_FIT()\n",
    "# Use non-linear least squares to fit a function, f, to data\n",
    "\n",
    "np.random.seed(101)\n",
    "x = (np.linspace(-360, 360, 101) + ((10 + 8) * np.random.random_sample(101) + 10)) * np.pi / 180\n",
    "y = x**3 + ((20 + 20) * np.random.random_sample(101) + 20)\n",
    "\n",
    "def f(x, a0, a1, a2, a3):\n",
    "    return a0 + a1*x + a2*x**2 + a3*x**3\n",
    "\n",
    "from scipy.optimize import curve_fit\n",
    "\n",
    "a,b = curve_fit(f, x, y) \n",
    "# a = poly coefficients,\n",
    "# b = 2D array of the estimated covariance of a\n",
    "print('coefs:', a)\n",
    "\n",
    "xp = np.linspace(-360, 360, 101) * np.pi / 180\n",
    "plt.figure(figsize=(12,6))\n",
    "plt.plot(xp, f(xp, a[0], a[1], a[2], a[3]), 'o', ms=4, label='SciPy fit')\n",
    "plt.plot(x, y, 'o',ms=3, label='Actual values')\n",
    "plt.legend();"
   ]
  }
 ],
 "metadata": {
  "kernelspec": {
   "display_name": "Python 3 (ipykernel)",
   "language": "python",
   "name": "python3"
  },
  "language_info": {
   "codemirror_mode": {
    "name": "ipython",
    "version": 3
   },
   "file_extension": ".py",
   "mimetype": "text/x-python",
   "name": "python",
   "nbconvert_exporter": "python",
   "pygments_lexer": "ipython3",
   "version": "3.8.2"
  }
 },
 "nbformat": 4,
 "nbformat_minor": 5
}
