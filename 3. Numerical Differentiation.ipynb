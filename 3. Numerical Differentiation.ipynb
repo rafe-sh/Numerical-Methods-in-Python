{
 "cells": [
  {
   "cell_type": "markdown",
   "id": "18e88e1b",
   "metadata": {},
   "source": [
    "# Numerical Differentiation"
   ]
  },
  {
   "cell_type": "markdown",
   "id": "faff7bdc",
   "metadata": {},
   "source": [
    "## Finite Differences"
   ]
  },
  {
   "cell_type": "markdown",
   "id": "492db40b",
   "metadata": {},
   "source": [
    "**Numerical differentiation** is a technique used in numerical analysis to approximate the derivative of a function. The derivative of a function at a point is the **rate of change of the function** at that point. There are several methods for numerical differentiation, including ***forward difference***, ***backward difference***, and ***central difference methods***.  \n",
    "\n",
    "These methods use **finite differences** to approximate the derivative of a function at a point. Numerical differentiation is useful in situations where the analytical expression for the derivative of a function is *not known* or is *difficult to compute*. It is commonly used in scientific and engineering applications, such as in the numerical solution of differential equations, optimization problems, and signal processing.  \n",
    "\n",
    "However, numerical differentiation is an approximation and may introduce errors that can accumulate and affect the accuracy of subsequent calculations."
   ]
  },
  {
   "attachments": {},
   "cell_type": "markdown",
   "id": "8cce5d66",
   "metadata": {},
   "source": [
    "### Forward Difference\n",
    "\n",
    "Theoretically, the finite differences approximation is derived from Taylor’s series expansion of f(x). The expansion of f(xi+1) can be written as  \n",
    "\n",
    "$$f(x_{i+1}) = f(x_i) + f'(x_i)h + \\frac{f''(x_i)}{2!}h^2 + \\frac{f'''(x_i)}{3!}h^3 + \\cdots$$\n",
    "\n",
    "so, \n",
    "\n",
    "$$\n",
    "f'(x_i) = \\frac{f(x_{i+1}) - f(x_i)}{h} - \\frac{f''(x_i)}{2!}h - \\frac{f'''(x_i)}{3!}h^2 - \\cdots\n",
    "$$\n",
    "\n",
    "one can write this in form of\n",
    "\n",
    "$$\n",
    "f'(x_i) = \\frac{f(x_{i+1}) - f(x_i)}{h} + O(h)\n",
    "$$\n",
    "\n",
    "This formula is known as **forward difference**.\n",
    "\n",
    "The following formulas represent the differentiations by using forward finite differences up to the fourth derivative.\n",
    "\n",
    "- First-order forward difference:\n",
    "\n",
    "$$ f'(x_i) = \\frac{f(x_{i+1}) - f(x_i)}{h} $$\n",
    "\n",
    "- Second-order forward difference:\n",
    "\n",
    "$$ f''(x_i) = \\frac{f(x_{i+2}) - 2f(x_{i+1}) + f(x_i)}{h^2} $$\n",
    "\n",
    "- Third-order forward difference:\n",
    "\n",
    "$$ f'''(x_i) = \\frac{f(x_{i+3}) - 3f(x_{i+2}) + 3f(x_{i+1}) - f(x_i)}{h^3} $$\n",
    "\n",
    "- Fourth-order forward difference:\n",
    "\n",
    "$$ f''''(x_i) = \\frac{f(x_{i+4}) - 4f(x_{i+3}) + 6f(x_{i+2}) - 4f(x_{i+1}) + f(x_i)}{h^4} $$\n",
    "\n",
    "A forward difference, denoted $\\displaystyle \\Delta _{h}[f],$ of a function $f$ is a function defined as\n",
    "\n",
    "$$\n",
    "\\displaystyle \\Delta _{h}[f](x)=f(x+h)-f(x)\n",
    "$$"
   ]
  },
  {
   "cell_type": "markdown",
   "id": "172d7b57",
   "metadata": {},
   "source": [
    "### Backward Difference\n",
    "\n",
    "A backward difference uses the function values at x and x − h, instead of the values at x + h and x:\n",
    "\n",
    "$$\\displaystyle \\nabla _{h}[f](x)=f(x)-f(x-h)=\\Delta _{h}[f](x-h).$$\n",
    "\n",
    "or for better coding format,\n",
    "\n",
    "$$\n",
    "f'(x_i) = \\frac{f(x_{i}) - f(x_{i-1})}{h} + O(h)\n",
    "$$\n",
    "\n",
    "\n",
    "\n",
    "The following formulas represent the differentiations by using backward finite differences up to the fourth derivative.\n",
    "\n",
    "- First-order backward difference:\n",
    "\n",
    "$$ f'(x_i) = \\frac{f(x_{i}) - f(x_{i-1})}{h} $$\n",
    "\n",
    "- Second-order backward difference:\n",
    "\n",
    "$$ f''(x_i) = \\frac{f(x_{i}) - 2f(x_{i-1}) + f(x_{i-2})}{h^2} $$\n",
    "\n",
    "- Third-order backward difference:\n",
    "\n",
    "$$ f'''(x_i) = \\frac{f(x_{i}) - 3f(x_{i-1}) + 3f(x_{i-2}) - f(x_{i-3})}{h^3} $$\n",
    "\n",
    "- Fourth-order backward difference:\n",
    "\n",
    "$$ f''''(x_i) = \\frac{f(x_{i}) - 4f(x_{i-1}) + 6f(x_{i-2}) - 4f(x_{i-3}) + f(x_{i-4})}{h^4} $$"
   ]
  },
  {
   "cell_type": "markdown",
   "id": "7e945b83",
   "metadata": {},
   "source": [
    "### Central Difference\n",
    "\n",
    "Finally, the central difference is given by\n",
    "\n",
    "$$\\displaystyle \\delta _{h}[f](x)=f(x+{\\tfrac {h}{2}})-f(x-{\\tfrac {h}{2}})=\\Delta _{h/2}[f](x)+\\nabla _{h/2}[f](x).$$\n",
    "\n",
    "or for better coding format,\n",
    "\n",
    "$$\n",
    "f'(x_i) = \\frac{f(x_{i+1}) - f(x_{i-1})}{2h} + O(h^2)\n",
    "$$\n",
    "\n",
    "\n",
    "The following formulas represent the differentiations by using central finite differences up to the fourth derivative.\n",
    "\n",
    "- First-order central difference:\n",
    "\n",
    "$$ f'(x_i) = \\frac{f(x_{i+1}) - f(x_{i-1})}{2h} $$\n",
    "\n",
    "- Second-order central difference:\n",
    "\n",
    "$$ f''(x_i) = \\frac{f(x_{i+1}) - 2f(x_{i}) + f(x_{i-1})}{h^2} $$\n",
    "\n",
    "- Third-order central difference:\n",
    "\n",
    "$$ f'''(x_i) = \\frac{f(x_{i+2}) - 2f(x_{i+1}) + 2f(x_{i-1}) - f(x_{i-2})}{2h^3} $$\n",
    "\n",
    "- Fourth-order central difference:\n",
    "\n",
    "$$ f''''(x_i) = \\frac{f(x_{i+2}) - 4f(x_{i+1}) + 6f(x_{i}) - 4f(x_{i-1}) + f(x_{i-2})}{h^4} $$"
   ]
  },
  {
   "cell_type": "markdown",
   "id": "365bd479",
   "metadata": {},
   "source": [
    "As it can simply be noticed form the formulas, the central differences consider the same number of points to the left and right of xi, while in backward differences the points are taken to the left of xi. This affects the results significantly."
   ]
  },
  {
   "cell_type": "markdown",
   "id": "b2b6e826",
   "metadata": {},
   "source": [
    "***Example:***\n",
    "\n",
    "Find the *first* and *second* derivatives of the following function at x = 0\n",
    "\n",
    "$ f(x) = x \\cdot cos(x)$\n",
    "\n",
    "$ f'(x) = cos(x) - x \\cdot sin(x) => f'(0) = 1 $\n",
    "\n",
    "$ f''(x) = -2 sin(x) - x \\cdot cos(x) => f''(0) = 0 $"
   ]
  },
  {
   "cell_type": "code",
   "execution_count": 159,
   "id": "8882734e",
   "metadata": {},
   "outputs": [
    {
     "name": "stdout",
     "output_type": "stream",
     "text": [
      "1st order diff: 0.9999995000000417\n",
      "2nd order diff: -0.0029999987502873915\n"
     ]
    }
   ],
   "source": [
    "### Forward Differences\n",
    "import numpy as np\n",
    "\n",
    "# function\n",
    "f = lambda x: x * np.cos(x)\n",
    "\n",
    "x = 0\n",
    "\n",
    "# step of derivation == h == dx\n",
    "h = 0.001\n",
    "\n",
    "df_forward = (f(x + h) - f(x)) / h\n",
    "d2f_forward = (f(x + 2*h) - 2*f(x+h) + f(x))/ h**2\n",
    "\n",
    "print(\"1st order diff:\",df_forward)\n",
    "print(\"2nd order diff:\",d2f_forward)"
   ]
  },
  {
   "cell_type": "code",
   "execution_count": 160,
   "id": "22100971",
   "metadata": {},
   "outputs": [
    {
     "data": {
      "image/png": "[encoded data removed]",
      "text/plain": [
       "<Figure size 576x288 with 1 Axes>"
      ]
     },
     "metadata": {
      "needs_background": "light"
     },
     "output_type": "display_data"
    }
   ],
   "source": [
    "import matplotlib.pyplot as plt\n",
    "\n",
    "x = np.linspace(-3.14, 3.14, 51)\n",
    "df_forward = (f(x + h) - f(x)) / h\n",
    "d2f_forward = (f(x + 2*h) - 2*f(x+h) + f(x))/ h**2\n",
    "\n",
    "plt.figure(figsize=(8,4))\n",
    "plt.plot(x, f(x), '--', color='black', label='f')\n",
    "plt.plot(x, df_forward, '+--', label='Df')\n",
    "plt.plot(x, d2f_forward, 'r.-.', label='D2f')\n",
    "\n",
    "plt.hlines(0,-3.2,3.2, alpha=.5, color='purple')\n",
    "plt.legend(loc=(1.01,.4))\n",
    "plt.show()"
   ]
  },
  {
   "cell_type": "markdown",
   "id": "b8dce7cb",
   "metadata": {},
   "source": [
    "* ***Backward***\n",
    "\n",
    "$$ {\\displaystyle \\nabla _{h}^{n}[f](x)=\\sum _{i=0}^{n}(-1)^{i}{\\binom {n}{i}}f(x-ih),}$$"
   ]
  },
  {
   "cell_type": "code",
   "execution_count": 161,
   "id": "89f76fe9",
   "metadata": {},
   "outputs": [
    {
     "name": "stdout",
     "output_type": "stream",
     "text": [
      "1st order diff: 0.9999995000000417\n",
      "2nd order diff: 0.0029999987502873915\n"
     ]
    }
   ],
   "source": [
    "### BACKWARD DIFFERENCES\n",
    "\n",
    "# function\n",
    "f = lambda x: x * np.cos(x)\n",
    "\n",
    "x = 0\n",
    "\n",
    "# step of derivation == h == dx\n",
    "h = 0.001\n",
    "\n",
    "df_backward = (f(x) - f(x-h)) / h\n",
    "d2f_backward = (f(x) - 2*f(x-h) + f(x-2*h))/ h**2\n",
    "\n",
    "print(\"1st order diff:\",df_backward)\n",
    "print(\"2nd order diff:\",d2f_backward)"
   ]
  },
  {
   "cell_type": "markdown",
   "id": "1a8d7e96",
   "metadata": {},
   "source": [
    "* ***Central:***\n",
    "$$ {\\displaystyle \\delta _{h}^{n}[f](x)=\\sum _{i=0}^{n}(-1)^{i}{\\binom {n}{i}}f\\left(x+\\left({\\frac {n}{2}}-i\\right)h\\right).}$$"
   ]
  },
  {
   "cell_type": "code",
   "execution_count": 163,
   "id": "f690588f",
   "metadata": {},
   "outputs": [
    {
     "name": "stdout",
     "output_type": "stream",
     "text": [
      "1st order diff: 0.9999995000000417\n",
      "2nd order diff: 0.0\n"
     ]
    }
   ],
   "source": [
    "### Central DIFFERENCES\n",
    "\n",
    "# function\n",
    "f = lambda x: x * np.cos(x)\n",
    "\n",
    "x = 0\n",
    "\n",
    "# step of derivation == h == dx\n",
    "h = 0.001\n",
    "\n",
    "df_central = (f(x+h) - f(x-h)) / (2*h)\n",
    "d2f_central = (f(x+h) - 2*f(x) + f(x-h))/ h**2\n",
    "\n",
    "print(\"1st order diff:\",df_central)\n",
    "print(\"2nd order diff:\",d2f_central)"
   ]
  },
  {
   "cell_type": "markdown",
   "id": "5129dc34",
   "metadata": {},
   "source": [
    "More accurate!"
   ]
  },
  {
   "cell_type": "markdown",
   "id": "f84c097c",
   "metadata": {},
   "source": [
    "---\n",
    "\n",
    "## SciPy Derivation"
   ]
  },
  {
   "cell_type": "markdown",
   "id": "52548c63",
   "metadata": {},
   "source": [
    "The numerical differentiation function derivative() from scipy.misc computes the n-th derivative of a given function at x0 by using a central difference formula with spacing dx. The solution of the example will as following"
   ]
  },
  {
   "cell_type": "code",
   "execution_count": 164,
   "id": "d416ea37",
   "metadata": {},
   "outputs": [],
   "source": [
    "from scipy.misc import derivative"
   ]
  },
  {
   "cell_type": "code",
   "execution_count": 169,
   "id": "8c28a708",
   "metadata": {},
   "outputs": [
    {
     "name": "stdout",
     "output_type": "stream",
     "text": [
      "Help on function derivative in module scipy.misc.common:\n",
      "\n",
      "derivative(func, x0, dx=1.0, n=1, args=(), order=3)\n",
      "    Find the nth derivative of a function at a point.\n",
      "    \n",
      "    Given a function, use a central difference formula with spacing `dx` to\n",
      "    compute the nth derivative at `x0`.\n",
      "    \n",
      "    Parameters\n",
      "    ----------\n",
      "    func : function\n",
      "        Input function.\n",
      "    x0 : float\n",
      "        The point at which the nth derivative is found.\n",
      "    dx : float, optional\n",
      "        Spacing.\n",
      "    n : int, optional\n",
      "        Order of the derivative. Default is 1.\n",
      "    args : tuple, optional\n",
      "        Arguments\n",
      "    order : int, optional\n",
      "        Number of points to use, must be odd.\n",
      "    \n",
      "    Notes\n",
      "    -----\n",
      "    Decreasing the step size too small can result in round-off error.\n",
      "    \n",
      "    Examples\n",
      "    --------\n",
      "    >>> from scipy.misc import derivative\n",
      "    >>> def f(x):\n",
      "    ...     return x**3 + x**2\n",
      "    >>> derivative(f, 1.0, dx=1e-6)\n",
      "    4.9999999999217337\n",
      "\n"
     ]
    }
   ],
   "source": [
    "help(derivative)"
   ]
  },
  {
   "cell_type": "code",
   "execution_count": 181,
   "id": "0e0a4254",
   "metadata": {},
   "outputs": [
    {
     "data": {
      "text/plain": [
       "0.9999995000000417"
      ]
     },
     "execution_count": 181,
     "metadata": {},
     "output_type": "execute_result"
    }
   ],
   "source": [
    "derivative(f, 0, dx=0.001, n=1)"
   ]
  },
  {
   "cell_type": "code",
   "execution_count": 180,
   "id": "feb28430",
   "metadata": {},
   "outputs": [
    {
     "data": {
      "text/plain": [
       "0.0"
      ]
     },
     "execution_count": 180,
     "metadata": {},
     "output_type": "execute_result"
    }
   ],
   "source": [
    "derivative(f, 0, dx=0.001, n=2)"
   ]
  }
 ],
 "metadata": {
  "kernelspec": {
   "display_name": "Python 3 (ipykernel)",
   "language": "python",
   "name": "python3"
  },
  "language_info": {
   "codemirror_mode": {
    "name": "ipython",
    "version": 3
   },
   "file_extension": ".py",
   "mimetype": "text/x-python",
   "name": "python",
   "nbconvert_exporter": "python",
   "pygments_lexer": "ipython3",
   "version": "3.8.2"
  }
 },
 "nbformat": 4,
 "nbformat_minor": 5
}
