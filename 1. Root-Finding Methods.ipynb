{
 "cells": [
  {
   "cell_type": "markdown",
   "id": "9a101e14",
   "metadata": {},
   "source": [
    "# Root-Finding Methods for High Degree Equations"
   ]
  },
  {
   "cell_type": "markdown",
   "id": "32a8ab9f",
   "metadata": {},
   "source": [
    "## Table of Contents\n",
    "\n",
    "- [i. Simple Iteration Method](#simple-iteration-method)\n",
    "- [ii. Newton-Raphson Method](#newton-raphson-method)\n",
    "- [iii. Bisection Method](#bisection-method)\n",
    "- [iv. SciPy Functions](#scipy-functions)"
   ]
  },
  {
   "cell_type": "markdown",
   "id": "b76835ee",
   "metadata": {},
   "source": [
    "## Simple Iteration Method <a id=\"simple-iteration-method\"></a>"
   ]
  },
  {
   "cell_type": "markdown",
   "id": "70c3c510",
   "metadata": {},
   "source": [
    "The simple iterations method can be used for finding roots of high-degree equations, but the choice of function g(x) is crucial for convergence. Here are some key points to keep in mind:\n",
    "\n",
    "* The simple iterations method involves repeatedly applying a fixed formula to an initial guess until a desired *level of accuracy* is achieved.\n",
    "\n",
    "* For high-degree equations, it may be difficult to find a suitable function g(x) that satisfies the sufficient condition for convergence **|g'(x)| < 1** for all x in the domain of interest.\n",
    "\n",
    "* In practice, it may be necessary to try multiple functions and initial guesses to find a combination that works.\n",
    "\n",
    "* Other numerical methods such as Newton's method or the bisection method are generally more efficient and can converge to a solution in fewer iterations than the simple iterations method.\n",
    "\n",
    "* However, these methods also require more computations per iteration and may be more sensitive to the choice of initial guess.\n",
    "\n",
    "* The simple iterations method can be useful as a starting point for finding roots of high-degree equations, but more advanced methods may be necessary for faster and more reliable convergence.\n",
    "\n",
    "```\n",
    "Inputs:\n",
    "\n",
    "    A function f(x)\n",
    "    A function g(x) such that x = g(x) can be rearranged from f(x) = 0\n",
    "    An initial guess x0\n",
    "    A tolerance level tol\n",
    "\n",
    "Outputs:\n",
    "\n",
    "    An approximation of the root of f(x) = 0\n",
    "```\n",
    "\n",
    "Algorithm:\n",
    "\n",
    "    1- Rearrange the equation so that the variable is put on the left side\n",
    "    2- Assume (guess) an initial value of the variable to start the first iteration\n",
    "    3- Substitute the value of the variable in the right side of the equation and calculate an new value for the variable\n",
    "    4- If the new value of the variable is not equal to the previous value, consider the new one as the value of the variable.\n",
    "    5- Repeat steps 3 and 4 until the new value is equal to the old value of the variable.\n",
    "    6- In case the new value does not approach the old value (difference increases at each iteration) stop calculation and try another initial value or another rearrangement of the given equation.\n",
    "\n",
    "```py\n",
    "    1. Set i = 0 and xi = x0\n",
    "    2. Repeat the following steps until |xi+1 - xi| < tol:\n",
    "        2a. Set xi+1 = g(xi)\n",
    "        2b. Set i = i + 1\n",
    "    3. Return xi+1 as an approximation of the root of f(x) = 0\n",
    "```"
   ]
  },
  {
   "cell_type": "code",
   "execution_count": 94,
   "id": "ef9976dc",
   "metadata": {},
   "outputs": [],
   "source": [
    "from math import * \n",
    "# Equation: x^2 - 3x + 1 = 0\n",
    "\n",
    "y = lambda x: x**2 - 3*x + 2 \n",
    "g1 = lambda x: (x**2 + 2)/3\n",
    "g2 = lambda x: sqrt(3*x - 2)"
   ]
  },
  {
   "cell_type": "markdown",
   "id": "2576f632",
   "metadata": {},
   "source": [
    "### Implementation with for loop"
   ]
  },
  {
   "cell_type": "code",
   "execution_count": 213,
   "id": "8c5a5d68",
   "metadata": {},
   "outputs": [
    {
     "name": "stdout",
     "output_type": "stream",
     "text": [
      "iterations: 54, root: 2.0, func: g2\n"
     ]
    }
   ],
   "source": [
    "# Set the tolerance and initial guess for the root\n",
    "tol = 1.0E-6\n",
    "x_init = -12\n",
    "\n",
    "# Try to estimate the root using the g1 function\n",
    "try:    \n",
    "    for i in range(100):\n",
    "        # Calculate the new value of x\n",
    "        x_new = g1(x_init)\n",
    "\n",
    "        # Check if the new value is within the desired tolerance\n",
    "        if abs(x_new - x_init) < tol:\n",
    "            break \n",
    "\n",
    "        # Update the initial guess with the new value\n",
    "        x_init = x_new\n",
    "\n",
    "    # Print the number of iterations, the estimated root, and the name of the function used\n",
    "    print(f'iterations: {i+1}', 'root:', round(x_new, 5), 'func: g1')\n",
    "    \n",
    "# If an overflow error occurs, try to estimate the root using the g2 function\n",
    "except OverflowError:\n",
    "    for i in range(100):\n",
    "        # Calculate the new value of x\n",
    "        x_new = g2(x_init)\n",
    "\n",
    "        # Check if the new value is within the desired tolerance\n",
    "        if abs(x_new - x_init) < tol:\n",
    "            break \n",
    "\n",
    "        # Update the initial guess with the new value\n",
    "        x_init = x_new\n",
    "\n",
    "    # Print the number of iterations, the estimated root, and the name of the function used\n",
    "    print(f'iterations: {i+1},', 'root:', f'{round(x_new, 5)},', 'func: g2')"
   ]
  },
  {
   "cell_type": "markdown",
   "id": "e7dc56e3",
   "metadata": {},
   "source": [
    "### Implemetation with while loop"
   ]
  },
  {
   "cell_type": "code",
   "execution_count": 157,
   "id": "e2af665c",
   "metadata": {},
   "outputs": [
    {
     "name": "stdout",
     "output_type": "stream",
     "text": [
      "iterations: 30, root: 1.0, func: g1\n"
     ]
    }
   ],
   "source": [
    "# Set the tolerance, initial guess for the root, and an initial value for x_new\n",
    "tol = 1.0E-6\n",
    "x_init = 1\n",
    "x_new = 1.2\n",
    "c = 0\n",
    "\n",
    "# Perform the fixed-point iteration until the desired tolerance is reached\n",
    "while abs(x_new - x_init) >= tol:\n",
    "    # Update the initial guess with the previous value of x_new\n",
    "    x_init = x_new\n",
    "\n",
    "    # Calculate the new value of x_new using the g1 function\n",
    "    x_new = g1(x_init)\n",
    "\n",
    "    # Increment the iteration counter\n",
    "    c += 1\n",
    "    \n",
    "# Print the number of iterations, the estimated root, and the name of the function used\n",
    "print(f'iterations: {c},', 'root:', f'{round(x_new, 5)},', 'func: g1')"
   ]
  },
  {
   "cell_type": "markdown",
   "id": "ba24f03e",
   "metadata": {},
   "source": [
    "#### Convergence Diagram"
   ]
  },
  {
   "cell_type": "code",
   "execution_count": 198,
   "id": "ee6c8255",
   "metadata": {},
   "outputs": [
    {
     "data": {
      "image/png": "[encoded data removed]",
      "text/plain": [
       "<Figure size 1440x480 with 1 Axes>"
      ]
     },
     "metadata": {
      "needs_background": "light"
     },
     "output_type": "display_data"
    }
   ],
   "source": [
    "import matplotlib.pyplot as plt\n",
    "\n",
    "x_next = []\n",
    "x_prev = []\n",
    "\n",
    "tol = 1.0E-6\n",
    "x_init = 1\n",
    "x_new = .5\n",
    "c = 0\n",
    "\n",
    "while abs(x_new - x_init) >= tol:\n",
    "    x_init = x_new\n",
    "    x_prev.append(x_init)\n",
    "    \n",
    "    x_new = g1(x_init)\n",
    "    x_next.append(x_new)\n",
    "    \n",
    "    c += 1\n",
    "    \n",
    "# print(f'iterations: {c},', 'root:', f'{round(x_new, 5)},', 'func: g1')\n",
    "\n",
    "plt.figure(figsize=(12,4), dpi=120)\n",
    "plt.title('Convergence')\n",
    "plt.xlabel('iterations')\n",
    "plt.plot(range(c), x_prev, '*--b', ms=4, label='x_prev')\n",
    "plt.plot(range(c), x_next, '+--r', ms=5, label='x_next')\n",
    "plt.legend(loc=0);"
   ]
  },
  {
   "cell_type": "markdown",
   "id": "d155c5e0",
   "metadata": {},
   "source": [
    "------"
   ]
  },
  {
   "cell_type": "markdown",
   "id": "d3747dd8",
   "metadata": {},
   "source": [
    "## Newton-Raphson Method <a id=\"newton-raphson-method\"></a>"
   ]
  },
  {
   "cell_type": "markdown",
   "id": "1b4ccf17",
   "metadata": {},
   "source": [
    "The **Newton-Raphson method** is an iterative technique for finding the roots of a function. It is also known as the *Newton's method* or the *Newton-Raphson iteration*. The method is based on using the *first derivative* of the function to iteratively refine an initial guess for the root. The basic idea is to use the tangent line to the function at the current guess to find a better guess for the root. The method can *converge very quickly* for well-behaved functions but may fail to converge for certain functions or initial guesses.\n",
    "\n",
    "Here are some key points about the Newton-Raphson method:\n",
    "\n",
    "- The method uses the **first derivative** of the function to iteratively refine the initial guess for the root.\n",
    "- The formula for the iteration is $x_{n+1} = x_n - \\frac{f(x_n)}{f'(x_n)}$, where $x_n$ is the current guess for the root, $f(x_n)$ is the function value at $x_n$, and $f'(x_n)$ is the derivative of the function at $x_n$.\n",
    "- The method requires an initial guess for the root, which should be chosen carefully to ensure convergence.\n",
    "- The method can converge very quickly for well-behaved functions but may fail to converge for certain functions or initial guesses.\n",
    "- The Newton-Raphson method is a popular technique for finding roots of functions in numerical analysis and scientific computing."
   ]
  },
  {
   "cell_type": "markdown",
   "id": "0dc327fa",
   "metadata": {},
   "source": [
    "Algorithm:\n",
    "\n",
    "    \n",
    "    1. Choose an initial guess x_0 for the root of the function f(x).\n",
    "    2. Compute the function value f(x_0) and the derivative f'(x_0) at the initial guess.\n",
    "    3. Calculate the next guess x_1 using the formula x_1 = x_0 - f(x_0)/f'(x_0).\n",
    "    4. If the difference between x_1 and x_0 is less than a specified tolerance, stop and return x_1 as the estimated root.\n",
    "    5. Set x_0 = x_1 and go back to step 2.\n"
   ]
  },
  {
   "cell_type": "markdown",
   "id": "edd1c67d",
   "metadata": {},
   "source": [
    "### Implementation"
   ]
  },
  {
   "cell_type": "code",
   "execution_count": 274,
   "id": "949022c4",
   "metadata": {},
   "outputs": [
    {
     "name": "stdout",
     "output_type": "stream",
     "text": [
      "iterations: 7, root: 1.00000000000000, initial guess: -1\n",
      "iterations: 6, root: 1.00000000000000, initial guess: 0\n",
      "The derivative is zero at x = 1.5. Skipping this initial guess.\n",
      "iterations: 6, root: 2.00000000000000, initial guess: 1.7\n",
      "iterations: 5, root: 2.00000000000000, initial guess: 2.5\n"
     ]
    }
   ],
   "source": [
    "import sympy\n",
    "\n",
    "# Define the equation symbolically\n",
    "x = sympy.Symbol('x')\n",
    "y = x**2 - 3*x + 2\n",
    "y_prime = y.diff(x)\n",
    "\n",
    "def newton_root(y, tol=1.0E-6, x_init=[0]):\n",
    "    \n",
    "    x = sympy.Symbol('x')\n",
    "    y = y\n",
    "    y_prime = y.diff(x)\n",
    "    \n",
    "    for x_i in x_init:\n",
    "        x_initial = x_i\n",
    "        \n",
    "        # Check if the derivative is zero at the initial guess\n",
    "        if y_prime.subs(x, x_i) == 0:\n",
    "            print(f\"The derivative is zero at x = {x_i}. Skipping this initial guess.\")\n",
    "            continue\n",
    "        \n",
    "        # Perform root estimation using the Newton-Raphson method\n",
    "        for i in range(100):\n",
    "            # Calculate the new value of x using the Newton-Raphson formula\n",
    "            x_new = x_i - (y.subs(x, x_i) / y_prime.subs(x, x_i))\n",
    "\n",
    "            # Check if the new value is within the desired tolerance\n",
    "            if abs(x_new - x_i) < tol:\n",
    "                # If within the tolerance, print the estimated root and number of iterations\n",
    "                print(f'iterations: {i+1},', 'root:', f'{round(x_new, 5)},', f'initial guess: {x_initial}')        \n",
    "                break\n",
    "\n",
    "            # Update the initial guess with the new value\n",
    "            x_i = x_new\n",
    "\n",
    "newton_root( x**2 - 3*x + 2 , x_init=[-1, 0, 1.5, 1.7, 2.5])"
   ]
  },
  {
   "cell_type": "markdown",
   "id": "6ab68770",
   "metadata": {},
   "source": [
    "Faster Cenvergence!"
   ]
  },
  {
   "cell_type": "markdown",
   "id": "a0aa5fdb",
   "metadata": {},
   "source": [
    "------"
   ]
  },
  {
   "cell_type": "markdown",
   "id": "cd772a77",
   "metadata": {},
   "source": [
    "## Bisection Method <a id=\"bisection-method\"></a>"
   ]
  },
  {
   "cell_type": "markdown",
   "id": "453539a5",
   "metadata": {},
   "source": [
    "The **bisection method** is a simple numerical method for finding the root of a function. The method works by repeatedly *bisecting an interval* that contains the root, and then selecting the subinterval in which the root must lie, based on the *intermediate value theorem*. The process is repeated until the desired level of accuracy is achieved.\n",
    "\n",
    "Here are some properties of the bisection method:\n",
    "\n",
    "* The method is *guaranteed to converge* to a root, provided that the *function is continuous* and *changes sign* over the interval.\n",
    "* The rate of convergence is very *slow*, typically linear, meaning that the number of iterations required to achieve a given level of accuracy grows linearly with the size of the interval.\n",
    "* The method is very *robust* and can handle functions that are oscillatory or have multiple roots.\n",
    "* The method is very *simple to implement* and requires only basic arithmetic operations.\n",
    "* The method is conservative in its use of information, since it only uses the sign of the function at the midpoint of the interval, and does not make use of any derivative information. This makes it *well-suited for functions that are expensive to compute* or for which the *derivative is not available*.\n"
   ]
  },
  {
   "cell_type": "markdown",
   "id": "923505a6",
   "metadata": {},
   "source": [
    "Algorithm:\n",
    "\n",
    "\n",
    "    1. Check that f(a) and f(b) have opposite signs. If they do not, return an error message and stop.\n",
    "    2. Set c = (a + b) / 2.\n",
    "    3. If f(c) = 0 or (b - a) / 2 < tol, then return c as the root.\n",
    "    4. If f(a) and f(c) have opposite signs, set b = c. Otherwise, set a = c.\n",
    "    5. Repeat from step 2.\n"
   ]
  },
  {
   "cell_type": "markdown",
   "id": "6e504fff",
   "metadata": {},
   "source": [
    "### Implementation"
   ]
  },
  {
   "cell_type": "code",
   "execution_count": 310,
   "id": "353f4d7e",
   "metadata": {},
   "outputs": [
    {
     "name": "stdout",
     "output_type": "stream",
     "text": [
      "iterations: 18, Root: 2.0\n"
     ]
    }
   ],
   "source": [
    "def bisection_root(y, a, b, tol=1.0E-6):\n",
    "    \"\"\"\n",
    "    Compute the root of a function using the bisection method.\n",
    "\n",
    "    Parameters:\n",
    "    y (function): A continuous function.\n",
    "    a (float): The left endpoint of the interval.\n",
    "    b (float): The right endpoint of the interval.\n",
    "    tol (float): The desired level of accuracy. Defaults to 1.0E-6.\n",
    "\n",
    "    Returns:\n",
    "    A float approximation to a root of y on the interval [a, b].\n",
    "\n",
    "    Raises:\n",
    "    ValueError: If y(a) and y(b) have the same sign or if the maximum number of iterations is exceeded.\n",
    "    \"\"\"\n",
    "\n",
    "    # Check that y(a) and y(b) have opposite signs\n",
    "    y_a = y(a)\n",
    "    y_b = y(b)\n",
    "    if y_a * y_b > 0:\n",
    "        raise ValueError(\"y(a) and y(b) must have opposite signs\")\n",
    "\n",
    "    # Set the initial interval and error\n",
    "    c = (a + b) / 2\n",
    "\n",
    "    # Repeat until the desired level of accuracy is achieved\n",
    "    for i in range(100):\n",
    "        y_c = y(c)\n",
    "\n",
    "        # Check if the root has been found\n",
    "        if abs(y_c) < tol:\n",
    "            return i, round(c, 5)\n",
    "\n",
    "        # Update the interval\n",
    "        if y_a * y_c < 0:\n",
    "            b = c\n",
    "        else:\n",
    "            a = c\n",
    "\n",
    "        # Bisect the interval\n",
    "        c = (a + b) / 2\n",
    "\n",
    "    # If the function does not converge within the maximum number of iterations, raise an error\n",
    "    raise ValueError(\"Maximum number of iterations exceeded\")\n",
    "\n",
    "\n",
    "# Example usage\n",
    "y = lambda x: x**2 - 3*x + 2\n",
    "a = 1.5\n",
    "b = 2.7\n",
    "i, root = bisection_root(y, a, b)\n",
    "print(f\"iterations: {i}, Root: {root}\")"
   ]
  },
  {
   "cell_type": "markdown",
   "id": "73fe3dee",
   "metadata": {},
   "source": [
    "-----"
   ]
  },
  {
   "cell_type": "markdown",
   "id": "13a7f20e",
   "metadata": {},
   "source": [
    "## SciPy Root finding Functions <a id=\"scipy-functions\"></a>"
   ]
  },
  {
   "cell_type": "code",
   "execution_count": 313,
   "id": "5fdeb722",
   "metadata": {},
   "outputs": [],
   "source": [
    "from scipy.optimize import newton, bisect, fsolve, root"
   ]
  },
  {
   "cell_type": "code",
   "execution_count": 312,
   "id": "4e8ada14",
   "metadata": {},
   "outputs": [],
   "source": [
    "y = lambda x: x**2 - 3*x + 2"
   ]
  },
  {
   "cell_type": "code",
   "execution_count": 317,
   "id": "8a63003e",
   "metadata": {},
   "outputs": [
    {
     "data": {
      "text/plain": [
       "1.9999999999999996"
      ]
     },
     "execution_count": 317,
     "metadata": {},
     "output_type": "execute_result"
    }
   ],
   "source": [
    "newton(y, 5)"
   ]
  },
  {
   "cell_type": "code",
   "execution_count": 321,
   "id": "586a98f0",
   "metadata": {},
   "outputs": [
    {
     "data": {
      "text/plain": [
       "2.0"
      ]
     },
     "execution_count": 321,
     "metadata": {},
     "output_type": "execute_result"
    }
   ],
   "source": [
    "bisect(y, 1.1, 2.3)"
   ]
  },
  {
   "cell_type": "code",
   "execution_count": 334,
   "id": "a01849f9",
   "metadata": {},
   "outputs": [
    {
     "name": "stdout",
     "output_type": "stream",
     "text": [
      "[2.]\n"
     ]
    }
   ],
   "source": [
    "print(fsolve(y, [2.5]))"
   ]
  },
  {
   "cell_type": "code",
   "execution_count": 333,
   "id": "64518d2b",
   "metadata": {},
   "outputs": [
    {
     "data": {
      "text/plain": [
       "    fjac: array([[-1.]])\n",
       "     fun: array([0.])\n",
       " message: 'The solution converged.'\n",
       "    nfev: 12\n",
       "     qtf: array([-7.59392549e-12])\n",
       "       r: array([-1.00000013])\n",
       "  status: 1\n",
       " success: True\n",
       "       x: array([2.])"
      ]
     },
     "execution_count": 333,
     "metadata": {},
     "output_type": "execute_result"
    }
   ],
   "source": [
    "root(y, 5)"
   ]
  }
 ],
 "metadata": {
  "kernelspec": {
   "display_name": "Python 3 (ipykernel)",
   "language": "python",
   "name": "python3"
  },
  "language_info": {
   "codemirror_mode": {
    "name": "ipython",
    "version": 3
   },
   "file_extension": ".py",
   "mimetype": "text/x-python",
   "name": "python",
   "nbconvert_exporter": "python",
   "pygments_lexer": "ipython3",
   "version": "3.8.2"
  }
 },
 "nbformat": 4,
 "nbformat_minor": 5
}
